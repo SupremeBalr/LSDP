{
 "cells": [
  {
   "cell_type": "code",
   "execution_count": 294,
   "metadata": {},
   "outputs": [
    {
     "ename": "TypeError",
     "evalue": "'int' object is not subscriptable",
     "output_type": "error",
     "traceback": [
      "\u001b[0;31m---------------------------------------------------------------------------\u001b[0m",
      "\u001b[0;31mTypeError\u001b[0m                                 Traceback (most recent call last)",
      "\u001b[0;32m<ipython-input-294-a49782db99eb>\u001b[0m in \u001b[0;36m<module>\u001b[0;34m\u001b[0m\n\u001b[1;32m     37\u001b[0m \u001b[0;32mfor\u001b[0m \u001b[0mobjectNumber\u001b[0m \u001b[0;32min\u001b[0m \u001b[0muniqueObjects\u001b[0m\u001b[0;34m:\u001b[0m\u001b[0;34m\u001b[0m\u001b[0;34m\u001b[0m\u001b[0m\n\u001b[1;32m     38\u001b[0m     \u001b[0mnFrames\u001b[0m \u001b[0;34m+=\u001b[0m \u001b[0mobjects\u001b[0m\u001b[0;34m.\u001b[0m\u001b[0mcount\u001b[0m\u001b[0;34m(\u001b[0m\u001b[0mobjectNumber\u001b[0m\u001b[0;34m)\u001b[0m \u001b[0;31m# get total frames per object\u001b[0m\u001b[0;34m\u001b[0m\u001b[0;34m\u001b[0m\u001b[0m\n\u001b[0;32m---> 39\u001b[0;31m     \u001b[0mtag\u001b[0m \u001b[0;34m=\u001b[0m \u001b[0mdata\u001b[0m\u001b[0;34m[\u001b[0m\u001b[0mnFrames\u001b[0m\u001b[0;34m-\u001b[0m\u001b[0;36m1\u001b[0m\u001b[0;34m,\u001b[0m\u001b[0;36m2\u001b[0m\u001b[0;34m]\u001b[0m\u001b[0;34m[\u001b[0m\u001b[0;34m:\u001b[0m\u001b[0;34m-\u001b[0m\u001b[0;36m1\u001b[0m\u001b[0;34m]\u001b[0m \u001b[0;31m# get tag per object using framecount\u001b[0m\u001b[0;34m\u001b[0m\u001b[0;34m\u001b[0m\u001b[0m\n\u001b[0m\u001b[1;32m     40\u001b[0m \u001b[0;31m#     print(tag)\u001b[0m\u001b[0;34m\u001b[0m\u001b[0;34m\u001b[0m\u001b[0;34m\u001b[0m\u001b[0m\n\u001b[1;32m     41\u001b[0m     \u001b[0mpitchContour\u001b[0m \u001b[0;34m=\u001b[0m \u001b[0mlist\u001b[0m\u001b[0;34m(\u001b[0m\u001b[0mdata\u001b[0m\u001b[0;34m[\u001b[0m\u001b[0ma\u001b[0m\u001b[0;34m:\u001b[0m\u001b[0mnFrames\u001b[0m\u001b[0;34m,\u001b[0m\u001b[0;36m1\u001b[0m\u001b[0;34m]\u001b[0m\u001b[0;34m)\u001b[0m \u001b[0;31m# get data pitch count per object\u001b[0m\u001b[0;34m\u001b[0m\u001b[0;34m\u001b[0m\u001b[0m\n",
      "\u001b[0;31mTypeError\u001b[0m: 'int' object is not subscriptable"
     ]
    }
   ],
   "source": [
    "import numpy as np\n",
    "\n",
    "dataDict = {}\n",
    "\n",
    "data = open('pitch_list_copy.txt', 'r')\n",
    "lines = data.readlines()\n",
    "\n",
    "# function: changes tagstring to defined integer\n",
    "def LHEtoNumber(tag):\n",
    "    if tag == \"HI\": # TAG HI -> 2 (highest value)\n",
    "        return 2\n",
    "    elif tag == \"LO\": # TAG LO -> 0 (lowest value)\n",
    "        return 0\n",
    "    else: # TAG EU -> 1 (mid value)\n",
    "        return 1\n",
    "\n",
    "raw_Data = [entry.split(',') for entry in lines]\n",
    "\n",
    "for i in range(1, len(raw_Data)):\n",
    "#     raw_Data[i][2] = LHEtoNumber(raw_Data[i][2]) # optional: change tagstrings to defined integers\n",
    "    if raw_Data[i][1] == \"--undefined--\":\n",
    "        raw_Data[i][1] = None\n",
    "    else:\n",
    "        raw_Data[i][1] = np.float(raw_Data[i][1])\n",
    "        \n",
    "data = np.array(raw_Data[1:])\n",
    "\n",
    "objects = list(data[:, 0].astype(int))\n",
    "\n",
    "uniqueObjects = list(set(objects))\n",
    "\n",
    "# Makes a dictionary (for storing) of datavectors with the correct tag at the end and the object number as key. \n",
    "# THESE VECTORS NEED TO BE NORMALIZED SOMEHOW. DATA IS ALSO IN STRING FORMAT AND NEEDS TO BE CAST TO FLOAT.\n",
    "# --undefined-- NEEDS TO BE CAST TO NaN OR SOMETHING. DONE\n",
    "a = 0\n",
    "nFrames = 0\n",
    "for objectNumber in uniqueObjects:\n",
    "    nFrames += objects.count(objectNumber) # get total frames per object\n",
    "    tag = data[nFrames-1,2][:-1] # get tag per object using framecount\n",
    "#     print(tag)\n",
    "    pitchContour = list(data[a:nFrames,1]) # get data pitch count per object\n",
    "    pitchContour.append(tag)\n",
    "    dataDict[objectNumber] = pitchContour\n",
    "    a = nFrames"
   ]
  },
  {
   "cell_type": "code",
   "execution_count": 293,
   "metadata": {},
   "outputs": [
    {
     "name": "stdout",
     "output_type": "stream",
     "text": [
      "[None, None, None, None, None, None, 142.33860836438856, 139.4203129761089, 143.13227977564162, 145.59126535153848, 148.86704384470508, 148.41517134613707, 144.83482175415793, None, None, 586.211176407109, 562.7861325425565, None, 154.12258772409587, 157.10887052872826, 159.42220879892477, 164.12876550443613, 164.40424975862075, 163.45245084005705, 160.4979362265683, 159.29146548365725, 157.90717885707537, 156.04460125247058, 156.35711776576207, 161.48972426068084, 162.10808513041366, 160.4720017871088, 160.264549110245, 159.5298193325787, 159.75618748069752, 137.35940707607224, 143.2891016891869, 146.69181230700363, None, None, 82.20516487439907, 82.39324651399782, 77.32806759971515, 87.25782420817204, 98.73493513654365, 98.89015556067017, 100.25075930685422, None, None, None, None, None, None, None, None, None, 112.0470301542683, 95.91369054126582, 94.64600311779496, 93.69435079151775, 93.7121021188145, 90.92600296259043, 88.47974635274365, 85.05149137325746, 91.09879656476491, 92.87803544528427, 94.24184022151339, 93.53925243106897, 93.32189130431223, 93.811194086943, None, 96.95167102365289, 97.96950128345212, 98.79978654796511, 98.09687138041635, 99.2932950751402, 102.0009826583091, 106.69935375431889, 109.34202655482915, 109.91217441299717, 109.48075487811532, 109.6958966816878, 110.69209561182468, 109.75286078806192, 109.20054901410474, None, None, None, None, None, None, 161.74678191474905, 163.2320264767637, 160.06772847528683, 155.86651131473812, 142.72749673050228, 144.2666919101951, 157.05018745609797, 158.77868991471814, 159.29294658828385, 158.6017573592035, 157.88007224133528, None, None, None, None, None, None, None, None, 136.87121662311463, 136.1568681721706, 136.4065325029979, 138.42724083965538, 136.3752515033589, 136.55197644827936, None, None, None, None, None, None, None, None, None, None, None, None, 126.36831299384563, 124.90033589174362, 123.27925330011294, 121.52416856957198, 108.95687557260143, 125.74427976378276, 122.79817743125949, 123.73380495408527, 123.06609677651494, 123.47787325549099, 123.55385100949292, 122.95107796466226, 123.04953375161152, 124.26015093430755, 124.48384115386132, None, None, None, 115.7731208899587, 109.69743830733235, 106.78474954097895, 108.99637630062615, None, None, None, None, None, None, None, None, None, None, None, None, None, None, ' LO']\n",
      "1138\n"
     ]
    }
   ],
   "source": [
    "print(dataDict.get(1))\n",
    "print(len(dataDict))"
   ]
  }
 ],
 "metadata": {
  "kernelspec": {
   "display_name": "Python 3",
   "language": "python",
   "name": "python3"
  },
  "language_info": {
   "codemirror_mode": {
    "name": "ipython",
    "version": 3
   },
   "file_extension": ".py",
   "mimetype": "text/x-python",
   "name": "python",
   "nbconvert_exporter": "python",
   "pygments_lexer": "ipython3",
   "version": "3.7.1"
  }
 },
 "nbformat": 4,
 "nbformat_minor": 2
}
